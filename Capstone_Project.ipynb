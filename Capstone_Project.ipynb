{
 "cells": [
  {
   "cell_type": "markdown",
   "metadata": {},
   "source": [
    "# Coursera - Capstone Project for IBM Data Science Certificate\n",
    "\n",
    "### The Battle of the Neighborhoods\n",
    "***\n",
    "\n",
    "## *Comparing McDonald's Branches in Manhattan and Toronto by Consumer Feedback on FourSquare API*\n",
    "\n",
    "*by Mohamad Shammaa*\n",
    "\n"
   ]
  },
  {
   "cell_type": "markdown",
   "metadata": {},
   "source": [
    "### Install and load libraries"
   ]
  },
  {
   "cell_type": "code",
   "execution_count": 1,
   "metadata": {},
   "outputs": [
    {
     "name": "stdout",
     "output_type": "stream",
     "text": [
      "Libraries imported.\n"
     ]
    }
   ],
   "source": [
    "\n",
    "#!pip install geopy\n",
    "#!pip install folium\n",
    "#!pip install geocoder\n",
    "\n",
    "import numpy as np # library to handle data in a vectorized manner\n",
    "import pandas as pd # library for data analsysis\n",
    "import seaborn as sns\n",
    "from bs4 import BeautifulSoup\n",
    "pd.set_option(\"display.max_columns\", None)\n",
    "pd.set_option(\"display.max_rows\", None)\n",
    "\n",
    "import json # library to handle JSON files\n",
    "import geocoder\n",
    " \n",
    "import requests # library to handle requests\n",
    "from bs4 import BeautifulSoup # library to parse HTML and XML documents\n",
    "import folium\n",
    "from sklearn.cluster import KMeans\n",
    "from geopy.geocoders import Nominatim\n",
    "from pandas.io.json import json_normalize # tranform JSON file into a pandas dataframe\n",
    "\n",
    "# Matplotlib and associated plotting modules\n",
    "import matplotlib as mpl\n",
    "import matplotlib.patches as mpatches\n",
    "import matplotlib.cm as cm\n",
    "import matplotlib.colors as colors\n",
    "import matplotlib.pyplot as plt \n",
    "\n",
    "\n",
    "mpl.style.use('ggplot') # optional: for ggplot-like style\n",
    "\n",
    "\n",
    "\n",
    "print(\"Libraries imported.\")"
   ]
  },
  {
   "cell_type": "markdown",
   "metadata": {},
   "source": [
    "## Download and manipulate Toronto Data"
   ]
  },
  {
   "cell_type": "code",
   "execution_count": 2,
   "metadata": {
    "scrolled": true
   },
   "outputs": [],
   "source": [
    "url = 'https://en.wikipedia.org/wiki/List_of_postal_codes_of_Canada:_M'\n",
    "dframe = pd.read_html(url, header=0)\n",
    "df = pd.DataFrame(dframe[0])\n",
    "df.columns = ['PostalCode', 'Borough', 'Neighborhood']\n",
    "\n",
    "df = df[df['Borough'] != 'Not assigned'] \n",
    "df.drop_duplicates([\"PostalCode\"], inplace = True)\n",
    "\n",
    "\n",
    "df.reset_index(drop=True, inplace=True)\n",
    "for i in df.index:\n",
    "    if df.iloc[i,2] == \"Not assigned\":\n",
    "        df.iloc[i,2] = df.iloc[i,1]\n",
    "        df.iloc[i,2]\n",
    "\n",
    "df1 = pd.DataFrame(df, columns=['PostalCode'])\n",
    "df1['Borough'] = ''\n",
    "df1['Neighborhood'] = ''\n",
    "\n",
    "df1.reset_index(drop=True, inplace=True)\n",
    "for i in df1.index:\n",
    "    for j in df.index:\n",
    "        if df1.iloc[i, 0] == df.iloc[j, 0]:\n",
    "            df1.iloc[i, 1] = df.iloc[j, 1]\n",
    "            df1.iloc[i, 2] = df1.iloc[i, 2] + ', ' + df.iloc[j, 2]\n",
    "            \n",
    "for i in df1.index:\n",
    "    s = df1.iloc[i,2]\n",
    "    if s[0] == ',':\n",
    "        s = s[1:]\n",
    "    df1.iloc[i,2] = s"
   ]
  },
  {
   "cell_type": "markdown",
   "metadata": {},
   "source": [
    "### Get the location coordinates and add them to the data of Toronto"
   ]
  },
  {
   "cell_type": "code",
   "execution_count": 3,
   "metadata": {},
   "outputs": [
    {
     "name": "stdout",
     "output_type": "stream",
     "text": [
      "The dataframe has 11 boroughs and 103 neighborhoods.\n"
     ]
    },
    {
     "data": {
      "text/html": [
       "<div>\n",
       "<style scoped>\n",
       "    .dataframe tbody tr th:only-of-type {\n",
       "        vertical-align: middle;\n",
       "    }\n",
       "\n",
       "    .dataframe tbody tr th {\n",
       "        vertical-align: top;\n",
       "    }\n",
       "\n",
       "    .dataframe thead th {\n",
       "        text-align: right;\n",
       "    }\n",
       "</style>\n",
       "<table border=\"1\" class=\"dataframe\">\n",
       "  <thead>\n",
       "    <tr style=\"text-align: right;\">\n",
       "      <th></th>\n",
       "      <th>Borough</th>\n",
       "      <th>Neighborhood</th>\n",
       "      <th>Latitude</th>\n",
       "      <th>Longitude</th>\n",
       "    </tr>\n",
       "  </thead>\n",
       "  <tbody>\n",
       "    <tr>\n",
       "      <th>0</th>\n",
       "      <td>North York</td>\n",
       "      <td>Parkwoods</td>\n",
       "      <td>43.752440</td>\n",
       "      <td>-79.329271</td>\n",
       "    </tr>\n",
       "    <tr>\n",
       "      <th>1</th>\n",
       "      <td>North York</td>\n",
       "      <td>Victoria Village</td>\n",
       "      <td>43.730421</td>\n",
       "      <td>-79.313320</td>\n",
       "    </tr>\n",
       "    <tr>\n",
       "      <th>2</th>\n",
       "      <td>Downtown Toronto</td>\n",
       "      <td>Harbourfront</td>\n",
       "      <td>43.655120</td>\n",
       "      <td>-79.362640</td>\n",
       "    </tr>\n",
       "    <tr>\n",
       "      <th>3</th>\n",
       "      <td>North York</td>\n",
       "      <td>Lawrence Heights</td>\n",
       "      <td>43.723125</td>\n",
       "      <td>-79.451589</td>\n",
       "    </tr>\n",
       "    <tr>\n",
       "      <th>4</th>\n",
       "      <td>Queen's Park</td>\n",
       "      <td>Queen's Park</td>\n",
       "      <td>43.661102</td>\n",
       "      <td>-79.391035</td>\n",
       "    </tr>\n",
       "  </tbody>\n",
       "</table>\n",
       "</div>"
      ],
      "text/plain": [
       "            Borough      Neighborhood   Latitude  Longitude\n",
       "0        North York         Parkwoods  43.752440 -79.329271\n",
       "1        North York  Victoria Village  43.730421 -79.313320\n",
       "2  Downtown Toronto      Harbourfront  43.655120 -79.362640\n",
       "3        North York  Lawrence Heights  43.723125 -79.451589\n",
       "4      Queen's Park      Queen's Park  43.661102 -79.391035"
      ]
     },
     "execution_count": 3,
     "metadata": {},
     "output_type": "execute_result"
    }
   ],
   "source": [
    "def get_latlng(postal_code):\n",
    "    # initialize your variable to None\n",
    "    lat_lng_coords = None\n",
    "    # loop until you get the coordinates\n",
    "    while(lat_lng_coords is None):\n",
    "        g = geocoder.arcgis('{}, Toronto, Ontario'.format(postal_code))\n",
    "        lat_lng_coords = g.latlng\n",
    "    return lat_lng_coords\n",
    "\n",
    "\n",
    "postal_codes = df['PostalCode']    \n",
    "coords = [ get_latlng(postal_code) for postal_code in postal_codes.tolist() ]\n",
    "\n",
    "\n",
    "df_coords = pd.DataFrame(coords, columns=['Latitude', 'Longitude'])\n",
    "df['Latitude'] = df_coords['Latitude']\n",
    "df['Longitude'] = df_coords['Longitude']\n",
    "\n",
    "toronto_df =df\n",
    "\n",
    "\n",
    "toronto_df = toronto_df.drop(\"PostalCode\",axis = 1)\n",
    "print('The dataframe has {} boroughs and {} neighborhoods.'.format(\n",
    "        len(toronto_df['Borough'].unique()),\n",
    "        toronto_df.shape[0]\n",
    "    )\n",
    ")\n",
    "\n",
    "toronto_df.head()"
   ]
  },
  {
   "cell_type": "markdown",
   "metadata": {},
   "source": [
    "## Download and prepare New York Data\n",
    "\n",
    "Download New York Data: https://geo.nyu.edu/download/file/nyu-2451-34572-geojson.json"
   ]
  },
  {
   "cell_type": "code",
   "execution_count": 4,
   "metadata": {},
   "outputs": [
    {
     "name": "stdout",
     "output_type": "stream",
     "text": [
      "Data downloaded!\n",
      "Loading data...\n"
     ]
    },
    {
     "ename": "FileNotFoundError",
     "evalue": "[Errno 2] No such file or directory: 'newyork_data.json'",
     "output_type": "error",
     "traceback": [
      "\u001b[1;31m---------------------------------------------------------------------------\u001b[0m",
      "\u001b[1;31mFileNotFoundError\u001b[0m                         Traceback (most recent call last)",
      "\u001b[1;32m<ipython-input-4-625ef9c7d71a>\u001b[0m in \u001b[0;36m<module>\u001b[1;34m\u001b[0m\n\u001b[0;32m      2\u001b[0m \u001b[0mprint\u001b[0m\u001b[1;33m(\u001b[0m\u001b[1;34m'Loading data...'\u001b[0m\u001b[1;33m)\u001b[0m\u001b[1;33m\u001b[0m\u001b[1;33m\u001b[0m\u001b[0m\n\u001b[0;32m      3\u001b[0m \u001b[1;33m\u001b[0m\u001b[0m\n\u001b[1;32m----> 4\u001b[1;33m \u001b[1;32mwith\u001b[0m \u001b[0mopen\u001b[0m\u001b[1;33m(\u001b[0m\u001b[1;34m'newyork_data.json'\u001b[0m\u001b[1;33m)\u001b[0m \u001b[1;32mas\u001b[0m \u001b[0mjson_data\u001b[0m\u001b[1;33m:\u001b[0m\u001b[1;33m\u001b[0m\u001b[1;33m\u001b[0m\u001b[0m\n\u001b[0m\u001b[0;32m      5\u001b[0m     \u001b[0mnewyork_data\u001b[0m \u001b[1;33m=\u001b[0m \u001b[0mjson\u001b[0m\u001b[1;33m.\u001b[0m\u001b[0mload\u001b[0m\u001b[1;33m(\u001b[0m\u001b[0mjson_data\u001b[0m\u001b[1;33m)\u001b[0m\u001b[1;33m\u001b[0m\u001b[1;33m\u001b[0m\u001b[0m\n\u001b[0;32m      6\u001b[0m \u001b[1;33m\u001b[0m\u001b[0m\n",
      "\u001b[1;31mFileNotFoundError\u001b[0m: [Errno 2] No such file or directory: 'newyork_data.json'"
     ]
    }
   ],
   "source": [
    "print('Data downloaded!')\n",
    "print('Loading data...')\n",
    "\n",
    "with open('newyork_data.json') as json_data:\n",
    "    newyork_data = json.load(json_data)\n",
    "    \n"
   ]
  },
  {
   "cell_type": "code",
   "execution_count": null,
   "metadata": {},
   "outputs": [],
   "source": [
    "neighborhoods_ny = pd.DataFrame(columns = ['Borough', 'Neighborhood', 'Latitude', 'Longitude'])\n",
    "for data in newyork_data['features']:\n",
    "    borough = neighborhood_name = data['properties']['borough'] \n",
    "    neighborhood_name = data['properties']['name']\n",
    "        \n",
    "    neighborhood_latlon = data['geometry']['coordinates']\n",
    "    neighborhood_lat = neighborhood_latlon[1]\n",
    "    neighborhood_lon = neighborhood_latlon[0]\n",
    "    \n",
    "    neighborhoods_ny = neighborhoods_ny.append({'Borough': borough,\n",
    "                                          'Neighborhood': neighborhood_name,\n",
    "                                          'Latitude': neighborhood_lat,\n",
    "                                          'Longitude': neighborhood_lon}, ignore_index=True)\n",
    "\n",
    "#Take only neighborhoods from manhattan!\n",
    "neighborhoods_m = neighborhoods_ny[neighborhoods_ny['Borough'] == 'Manhattan'].reset_index(drop=True)\n",
    "neighborhoods_m.head()"
   ]
  },
  {
   "cell_type": "markdown",
   "metadata": {},
   "source": [
    "## Visualize the Neighborhoods of Toronto and Manhattan using Folium"
   ]
  },
  {
   "cell_type": "markdown",
   "metadata": {},
   "source": [
    "### Get the geographical coordination of both cities"
   ]
  },
  {
   "cell_type": "code",
   "execution_count": null,
   "metadata": {},
   "outputs": [],
   "source": [
    "address = 'Manhattan, NY'\n",
    "\n",
    "geolocator = Nominatim(user_agent=\"my-application\")\n",
    "location = geolocator.geocode(address)\n",
    "m_latitude = location.latitude\n",
    "m_longitude = location.longitude\n",
    "print('The geograpical coordinate of New York are {}, {}.'.format(m_latitude, m_longitude))\n",
    "\n",
    "address = 'Toronto'\n",
    "\n",
    "location = geolocator.geocode(address)\n",
    "to_latitude = location.latitude\n",
    "to_longitude = location.longitude\n",
    "print('The geograpical coordinate of Toronto are {}, {}.'.format(to_latitude, to_longitude))\n"
   ]
  },
  {
   "cell_type": "markdown",
   "metadata": {},
   "source": [
    "### Append both data frames"
   ]
  },
  {
   "cell_type": "code",
   "execution_count": null,
   "metadata": {},
   "outputs": [],
   "source": [
    "df = neighborhoods_m.append(toronto_df, True)\n",
    "pd.set_option('max_rows', 8)\n",
    "df"
   ]
  },
  {
   "cell_type": "markdown",
   "metadata": {},
   "source": [
    "### Visualize all Neighborhoods"
   ]
  },
  {
   "cell_type": "code",
   "execution_count": null,
   "metadata": {},
   "outputs": [],
   "source": [
    "# creating map of Toronto using latitude and longitude values\n",
    "toronto_map = folium.Map(location=[to_latitude, to_longitude], zoom_start=11)\n",
    "\n",
    "for lat, lng, borough, neighborhood in zip(toronto_df['Latitude'], toronto_df['Longitude'], toronto_df['Borough'], toronto_df['Neighborhood']):\n",
    "    label = '{}, {}'.format(neighborhood, borough)\n",
    "    label = folium.Popup(label, parse_html=True)\n",
    "    folium.CircleMarker(\n",
    "        [lat, lng],\n",
    "        radius=5,\n",
    "        popup=label,\n",
    "        color='black',\n",
    "        fill=True,\n",
    "        fill_color='#3186cc',\n",
    "        fill_opacity=0.7,\n",
    "        parse_html=False).add_to(toronto_map)  \n",
    "    \n",
    "toronto_map"
   ]
  },
  {
   "cell_type": "code",
   "execution_count": null,
   "metadata": {},
   "outputs": [],
   "source": [
    "# creating map of Manhattan using latitude and longitude values\n",
    "map_newyork = folium.Map(location=[m_latitude, m_longitude], zoom_start=11)\n",
    "\n",
    "# add markers to map\n",
    "for lat, lng, borough, neighborhood in zip(neighborhoods_m['Latitude'], neighborhoods_m['Longitude'], neighborhoods_m['Borough'], neighborhoods_m['Neighborhood']):\n",
    "    label = '{}, {}'.format(neighborhood, borough)\n",
    "    label = folium.Popup(label, parse_html=True)\n",
    "    folium.CircleMarker(\n",
    "        [lat, lng],\n",
    "        radius=5,\n",
    "        popup=label,\n",
    "        color='blue',\n",
    "        fill=True,\n",
    "        fill_color='#3186cc',\n",
    "        fill_opacity=0.7,\n",
    "        parse_html=False).add_to(map_newyork)  \n",
    "    \n",
    "map_newyork"
   ]
  },
  {
   "cell_type": "markdown",
   "metadata": {},
   "source": [
    "### Locate both cities on the world map"
   ]
  },
  {
   "cell_type": "code",
   "execution_count": null,
   "metadata": {},
   "outputs": [],
   "source": [
    "\n",
    "T_N_map = folium.Map(location=[((m_latitude + to_latitude)/2), ((m_longitude + to_longitude)/2)], zoom_start=7, width='100%', height='100%')\n",
    "\n",
    "for lat, lng, borough in zip(df['Latitude'], df['Longitude'], df['Borough']):\n",
    "    label = '{}'.format(borough)\n",
    "    label = folium.Popup(label, parse_html=True)\n",
    "    folium.CircleMarker(\n",
    "        [lat, lng],\n",
    "        radius=5,\n",
    "        popup=label,\n",
    "        color='red',\n",
    "        fill=True,\n",
    "        fill_color='gold',\n",
    "        fill_opacity=0.7).add_to(T_N_map)\n",
    "     \n",
    "    \n",
    "T_N_map"
   ]
  },
  {
   "cell_type": "markdown",
   "metadata": {},
   "source": [
    "## Use Foursquare API to explore McDonalds restaurants in the neighborhoods "
   ]
  },
  {
   "cell_type": "code",
   "execution_count": null,
   "metadata": {},
   "outputs": [],
   "source": [
    "CLIENT_ID = 'IWWC3B25EGD5SWXVMKBTNLKSOKGYBFRYCQWXOR3GDTBPMBGG' # your Foursquare ID\n",
    "CLIENT_SECRET = 'PVD1S4ZXBY2CKEZJBXQRKYMCL4HUBNS2S1SW3EL5FL22JN0M' # your Foursquare Secret\n",
    "VERSION = '20180605' # Foursquare API version\n",
    "LIMIT = 1000\n",
    "print('Your credentails:')\n",
    "print('CLIENT_ID: ' + CLIENT_ID)\n",
    "print('CLIENT_SECRET:' + CLIENT_SECRET)"
   ]
  },
  {
   "cell_type": "markdown",
   "metadata": {},
   "source": [
    "## Search for Mcdonalds branches within a radius of 5000 meters:"
   ]
  },
  {
   "cell_type": "markdown",
   "metadata": {},
   "source": [
    "### Set the search criteria"
   ]
  },
  {
   "cell_type": "code",
   "execution_count": null,
   "metadata": {},
   "outputs": [],
   "source": [
    "search_query = 'Mcdonalds'\n",
    "radius = 5000\n",
    "print(search_query + ' .... OK!')"
   ]
  },
  {
   "cell_type": "markdown",
   "metadata": {},
   "source": [
    "### Mcdonalds branches in Toronto within a radius of 5000 meters"
   ]
  },
  {
   "cell_type": "code",
   "execution_count": null,
   "metadata": {},
   "outputs": [],
   "source": [
    "url = 'https://api.foursquare.com/v2/venues/search?client_id={}&client_secret={}&ll={},{}&v={}&query={}&radius={}&limit={}'.format(CLIENT_ID, CLIENT_SECRET, to_latitude, to_longitude, VERSION, search_query, radius, LIMIT)\n",
    "\n",
    "results = requests.get(url).json()\n",
    "\n",
    "# assign relevant part of JSON to venues\n",
    "venues = results['response']['venues']\n",
    "\n",
    "# tranform venues into a dataframe\n",
    "dataframe = json_normalize(venues)\n",
    "dataframe.head(2)"
   ]
  },
  {
   "cell_type": "code",
   "execution_count": null,
   "metadata": {
    "scrolled": false
   },
   "outputs": [],
   "source": [
    "# keep only columns that include venue name, and anything that is associated with location\n",
    "filtered_columns = ['name', 'categories'] + [col for col in dataframe.columns if col.startswith('location.')] + ['id']\n",
    "dataframe_filtered = dataframe.loc[:, filtered_columns]\n",
    "\n",
    "# function that extracts the category of the venue\n",
    "def get_category_type(row):\n",
    "    try:\n",
    "        categories_list = row['categories']\n",
    "    except:\n",
    "        categories_list = row['venue.categories']\n",
    "        \n",
    "    if len(categories_list) == 0:\n",
    "        return None\n",
    "    else:\n",
    "        return categories_list[0]['name']\n",
    "\n",
    "# filter the category for each row\n",
    "dataframe_filtered['categories'] = dataframe_filtered.apply(get_category_type, axis=1)\n",
    "\n",
    "# clean column names by keeping only last term\n",
    "dataframe_filtered.columns = [column.split('.')[-1] for column in dataframe_filtered.columns]\n",
    "\n",
    "dataframe_filtered.head(2)"
   ]
  },
  {
   "cell_type": "code",
   "execution_count": null,
   "metadata": {},
   "outputs": [],
   "source": [
    "t_data = dataframe_filtered[dataframe_filtered['city']=='Toronto']#drop cities other than Toronto\n",
    "t_data1 = t_data[t_data['categories']=='Fast Food Restaurant']#drop categories other than Fast Food\n",
    "t_data_filtered = t_data1[t_data1.city != \"nan\"]#drop data with 'nan'\n",
    "t_data_filtered.drop_duplicates([\"id\"], inplace = True) #drop rows with same id & address\n",
    "t_data_filtered.drop_duplicates([\"address\"], inplace = True) \n",
    "t_data_filtered.head(2)"
   ]
  },
  {
   "cell_type": "code",
   "execution_count": null,
   "metadata": {},
   "outputs": [],
   "source": [
    "# filter columns\n",
    "filtered_columns = ['name', 'city', 'address', 'lat', 'lng', 'id']\n",
    "mcd_br_t =t_data_filtered.loc[:, filtered_columns]\n",
    "\n",
    "mcd_br_t.head(2)"
   ]
  },
  {
   "cell_type": "markdown",
   "metadata": {},
   "source": [
    "### Mcdonalds branches in Manhattan, New York within a radius of 5000 meters"
   ]
  },
  {
   "cell_type": "code",
   "execution_count": null,
   "metadata": {},
   "outputs": [],
   "source": [
    "url = 'https://api.foursquare.com/v2/venues/search?client_id={}&client_secret={}&ll={},{}&v={}&query={}&radius={}&limit={}'.format(CLIENT_ID, CLIENT_SECRET, m_latitude, m_longitude, VERSION, search_query, radius, LIMIT)\n",
    "\n",
    "results = requests.get(url).json()\n",
    "results\n",
    "\n",
    "# assign relevant part of JSON to venues\n",
    "venues = results['response']['venues']\n",
    "\n",
    "# tranform venues into a dataframe\n",
    "dataframe = json_normalize(venues)\n",
    "\n",
    "# keep only columns that include venue name, and anything that is associated with location\n",
    "filtered_columns = ['name', 'categories'] + [col for col in dataframe.columns if col.startswith('location.')] + ['id']\n",
    "dataframe_filtered = dataframe.loc[:, filtered_columns]\n",
    "\n",
    "# function that extracts the category of the venue\n",
    "def get_category_type(row):\n",
    "    try:\n",
    "        categories_list = row['categories']\n",
    "    except:\n",
    "        categories_list = row['venue.categories']\n",
    "        \n",
    "    if len(categories_list) == 0:\n",
    "        return None\n",
    "    else:\n",
    "        return categories_list[0]['name']\n",
    "\n",
    "# filter the category for each row\n",
    "dataframe_filtered['categories'] = dataframe_filtered.apply(get_category_type, axis=1)\n",
    "\n",
    "# clean column names by keeping only last term\n",
    "dataframe_filtered.columns = [column.split('.')[-1] for column in dataframe_filtered.columns]\n",
    "\n",
    "m_data = dataframe_filtered[dataframe_filtered['city']=='New York']\n",
    "m_data1 = m_data[m_data['categories']=='Fast Food Restaurant']\n",
    "m_data_filtered = m_data1[m_data1.city != \"nan\"]\n",
    "m_data_filtered.drop_duplicates([\"id\"], inplace = True)\n",
    "m_data_filtered.drop_duplicates([\"address\"], inplace = True)\n",
    "m_data_filtered.drop(\"city\", axis = 1)\n",
    "m_data_filtered['city'] = 'Manhattan, NY'\n",
    "\n",
    "# filter columns\n",
    "filtered_columns = ['name', 'city', 'address', 'lat', 'lng', 'id']\n",
    "mcd_br_m =m_data_filtered.loc[:, filtered_columns]\n",
    "mcd_br_m.head(2)"
   ]
  },
  {
   "cell_type": "markdown",
   "metadata": {},
   "source": [
    "### Visualize McDonald's branches in both Toronto and Manhattan"
   ]
  },
  {
   "cell_type": "code",
   "execution_count": null,
   "metadata": {},
   "outputs": [],
   "source": [
    "# McDonald's branches in Toronto (label = street name)\n",
    "mcd_t = folium.Map(location=[to_latitude, to_longitude], zoom_start=13) \n",
    "\n",
    "for lat, lng, label in zip(mcd_br_t.lat, mcd_br_t.lng, mcd_br_t.address):\n",
    "    folium.CircleMarker(\n",
    "        [lat, lng],\n",
    "        radius=5,\n",
    "        color='gold',\n",
    "        popup=label,\n",
    "        fill = True,\n",
    "        fill_color='blue',\n",
    "        fill_opacity=0.6\n",
    "    ).add_to(mcd_t)\n",
    "\n",
    "# display map\n",
    "mcd_t"
   ]
  },
  {
   "cell_type": "code",
   "execution_count": null,
   "metadata": {},
   "outputs": [],
   "source": [
    "# McDonald's branches in Manhattan (label = street name)\n",
    "mcd_m = folium.Map(location=[m_latitude, m_longitude], zoom_start=12) \n",
    "\n",
    "for lat, lng, label in zip(mcd_br_m.lat, mcd_br_m.lng, mcd_br_m.address):\n",
    "    folium.CircleMarker(\n",
    "        [lat, lng],\n",
    "        radius=5,\n",
    "        color='gold',\n",
    "        popup=str(label),\n",
    "        fill = True,\n",
    "        fill_color='green',\n",
    "        fill_opacity=0.6\n",
    "    ).add_to(mcd_m)\n",
    "\n",
    "# display map\n",
    "mcd_m"
   ]
  },
  {
   "cell_type": "markdown",
   "metadata": {},
   "source": [
    "### Get the number of total likes and the ratings for the studied branches and assign them to a list:"
   ]
  },
  {
   "cell_type": "markdown",
   "metadata": {},
   "source": [
    "### Do not Run it \n",
    "\n",
    "like_list_t = []\n",
    "json_list_t = []\n",
    "\n",
    "for id in mcd_br_t['id']:\n",
    "    url = 'https://api.foursquare.com/v2/venues/{}?client_id={}&client_secret={}&v={}'.format(id, CLIENT_ID, CLIENT_SECRET, VERSION)\n",
    "    result = requests.get(url).json()\n",
    "    likes = result['response']['venue']['likes']['count']\n",
    "    like_list_t.append(likes)\n",
    "    \n",
    "    \n",
    "print(like_list_t)\n",
    "\n",
    "\n",
    "\n",
    "        \n"
   ]
  },
  {
   "cell_type": "markdown",
   "metadata": {},
   "source": [
    "for id in mcd_br_t['id']:\n",
    "    url = 'https://api.foursquare.com/v2/venues/{}?client_id={}&client_secret={}&v={}'.format(id, CLIENT_ID, CLIENT_SECRET, VERSION)\n",
    "    result = requests.get(url).json()\n",
    "    try:\n",
    "        print(result['response']['venue']['rating'])\n",
    "    except:\n",
    "        print('na')"
   ]
  },
  {
   "cell_type": "markdown",
   "metadata": {},
   "source": [
    "rating_list_m = []\n",
    "like_list_m = []\n",
    "json_list_m = []\n",
    "\n",
    "for id in mcd_br_m['id']:\n",
    "    url = 'https://api.foursquare.com/v2/venues/{}?client_id={}&client_secret={}&v={}'.format(id, CLIENT_ID, CLIENT_SECRET, VERSION)\n",
    "    result = requests.get(url).json()\n",
    "    \n",
    "    likes = result['response']['venue']['likes']['count']\n",
    "    like_list_m.append(likes)\n",
    "    \n",
    "    ratings = result['response']['venue']['rating']\n",
    "    rating_list_m.append(ratings)\n",
    "    \n",
    "print(like_list_m)\n",
    "print(rating_list_m)\n",
    "\n",
    "#mcd_br_m['likes'] = like_list_m\n",
    "#mcd_br_m['ratings'] = rating_list_m\n",
    "#mcd_br_m.head()"
   ]
  },
  {
   "cell_type": "markdown",
   "metadata": {},
   "source": [
    "### Enter the results manualy (p.s. the results might change daily)"
   ]
  },
  {
   "cell_type": "code",
   "execution_count": null,
   "metadata": {},
   "outputs": [],
   "source": [
    "#Toronto\n",
    "mcd_br_t['likes'] = [56, 27, 43, 24, 22, 17, 26, 3, 1, 8, 1, 6, 11, 0, 6, 0, 1, 26, 19, 4, 15, 18, 3, 18, 14, 16, 9, 2, 6, 7, 17, 0, 0, 27, 0, 0, 2, 6, 6, 0]\n",
    "mcd_br_t['ratings'] = [6.5,5.1,5.4,5.7,6.3,5.7,5.4,5.1,5.7,5.0,'na',5.7,4.9,5.8,5.3,5.8,5.9,5.7,5.0,4.6,4.9,5.4,5.0,5.4,4.9,6.2,5.7,6.0,5.1,5.2,5.4,5.4,5.8,5.6,'na',5.8,4.7,4.9,5.0,'na']\n",
    "mcd_br_t['ratings'] = mcd_br_t['ratings'].replace({'na':np.nan}) \n",
    "mcd_br_t = mcd_br_t[np.isfinite(mcd_br_t['ratings'])] # drop rows with unknown rating\n",
    "mcd_br_t.reset_index(drop = True, inplace = True)\n",
    "mcd_br_t.head(2)"
   ]
  },
  {
   "cell_type": "code",
   "execution_count": null,
   "metadata": {},
   "outputs": [],
   "source": [
    "#Manhattan\n",
    "mcd_br_m['likes'] = [26, 17, 57, 21, 61, 122, 47, 27, 10, 66, 202, 47, 105, 12, 58, 19, 7, 26, 6, 35, 45, 60, 51, 269, 38, 21, 67, 23, 66, 14, 19, 25, 12, 19, 12, 1, 43, 24, 22, 12, 0]\n",
    "mcd_br_m['ratings'] = [5.3, 6.1, 5.5, 5.1, 5.5, 6.2, 5.4, 5.4, 4.9, 6.2, 6.2, 5.5, 5.4, 4.7, 5.6, 4.9, 6.2, 5.2, 4.9, 5.7, 5.3, 5.8, 5.5, 6.3, 5.2, 5.0, 5.3, 5.2, 6.3, 5.1, 6.0, 5.4, 5.1, 5.3, 5.3, 5.8, 5.6, 5.1, 4.8, 5.0, 5.1]\n",
    "\n",
    "mcd_br_m.reset_index(drop = True, inplace = True)\n",
    "mcd_br_m.head(2)"
   ]
  },
  {
   "cell_type": "code",
   "execution_count": null,
   "metadata": {},
   "outputs": [],
   "source": [
    "#Sort Toronto data by number of likes\n",
    "mcd_br_t.sort_values(by='likes', ascending=False, inplace=True)\n",
    "mcd_br_t.reset_index(drop = True, inplace = True)"
   ]
  },
  {
   "cell_type": "code",
   "execution_count": null,
   "metadata": {},
   "outputs": [],
   "source": [
    "#Sort Manhattan data by number of likes\n",
    "mcd_br_m.sort_values(by='likes', ascending=False, inplace=True)\n",
    "mcd_br_m.reset_index(drop = True, inplace = True)"
   ]
  },
  {
   "cell_type": "code",
   "execution_count": null,
   "metadata": {},
   "outputs": [],
   "source": [
    "print('number of studied McDonalds branches in Toronto are:', mcd_br_t.name.count())\n",
    "print('number of studied McDonalds branches in Manhattan(NY) are:', mcd_br_m.name.count())"
   ]
  },
  {
   "cell_type": "markdown",
   "metadata": {},
   "source": [
    "### Descriptive statistics for total likes & ratings in each City"
   ]
  },
  {
   "cell_type": "code",
   "execution_count": null,
   "metadata": {},
   "outputs": [],
   "source": [
    "pd.set_option('max_rows', 10)\n",
    "mcd_br_t['likes'].describe()"
   ]
  },
  {
   "cell_type": "code",
   "execution_count": null,
   "metadata": {},
   "outputs": [],
   "source": [
    "mcd_br_m['likes'].describe()"
   ]
  },
  {
   "cell_type": "code",
   "execution_count": null,
   "metadata": {},
   "outputs": [],
   "source": [
    "mcd_br_t['ratings'].describe()"
   ]
  },
  {
   "cell_type": "code",
   "execution_count": null,
   "metadata": {},
   "outputs": [],
   "source": [
    "mcd_br_m['ratings'].describe()"
   ]
  },
  {
   "cell_type": "code",
   "execution_count": null,
   "metadata": {},
   "outputs": [],
   "source": [
    "# Prepare format for seaborn boxplots\n",
    "sns.set()\n",
    "sns.set(rc={'figure.figsize':(8,5)})"
   ]
  },
  {
   "cell_type": "code",
   "execution_count": null,
   "metadata": {},
   "outputs": [],
   "source": [
    "# Merging data\n",
    "df_both = pd.concat([mcd_br_t, mcd_br_m]).reset_index(drop=True)\n",
    "pd.set_option('max_rows', 4)\n",
    "df_both"
   ]
  },
  {
   "cell_type": "code",
   "execution_count": null,
   "metadata": {},
   "outputs": [],
   "source": [
    "# boxplot for likes in both cities\n",
    "ax=sns.boxplot(x=\"city\", y=\"likes\", data=df_both, palette=\"Set2\")\n",
    "ax=sns.swarmplot(x=\"city\", y=\"likes\", data=df_both, color=\".25\")\n",
    "ax.set_title('Boxplot of total likes by city')\n",
    "ax.set_ylabel('Count of likes')\n",
    "ax.set_xlabel('');"
   ]
  },
  {
   "cell_type": "code",
   "execution_count": null,
   "metadata": {},
   "outputs": [],
   "source": [
    "# box plot for ratings in both cities\n",
    "ax = sns.boxplot(x=\"city\", y=\"ratings\", data=df_both, palette=\"Set2\")\n",
    "ax = sns.swarmplot(x=\"city\", y=\"ratings\", data=df_both, color=\".25\")\n",
    "ax.set_title('Boxplot of total rating by city')\n",
    "ax.set_ylabel('Rating')\n",
    "ax.set_xlabel('');"
   ]
  },
  {
   "cell_type": "markdown",
   "metadata": {},
   "source": [
    "###  Plot the frequency of likes as categories"
   ]
  },
  {
   "cell_type": "code",
   "execution_count": null,
   "metadata": {},
   "outputs": [],
   "source": [
    "# Plot the frequency of likes in Toronto in ten categories\n",
    "\n",
    "count, bin_edges = np.histogram(mcd_br_t['likes'])\n",
    "\n",
    "mcd_br_t['likes'].plot(kind='hist', figsize=(8, 5), xticks=bin_edges, color='lightskyblue')\n",
    "\n",
    "plt.title(\"Frequency of likes from 37 Mcdonalds branches in Toronto\") # add a title to the histogram\n",
    "plt.ylabel('Frequency') # add y-label\n",
    "plt.xlabel('Group of Likes') # add x-label\n",
    "\n",
    "plt.show()"
   ]
  },
  {
   "cell_type": "code",
   "execution_count": null,
   "metadata": {},
   "outputs": [],
   "source": [
    "# Plot the frequency of likes in Manhattan in ten categories\n",
    "\n",
    "count, bin_edges = np.histogram(mcd_br_m['likes'])\n",
    "\n",
    "mcd_br_m['likes'].plot(kind='hist', figsize=(8, 5), xticks=bin_edges, color = 'yellowgreen')\n",
    "\n",
    "plt.title(\"Frequency of likes from 41 Mcdonalds branches in Manhattan NY\") # add a title to the histogram\n",
    "plt.ylabel('Frequency') # add y-label\n",
    "plt.xlabel('Group of Likes') # add x-label\n",
    "\n",
    "plt.show()"
   ]
  },
  {
   "cell_type": "markdown",
   "metadata": {},
   "source": [
    "# Clustering using K-Means method"
   ]
  },
  {
   "cell_type": "markdown",
   "metadata": {},
   "source": [
    "### Prepare data for Clustering"
   ]
  },
  {
   "cell_type": "code",
   "execution_count": null,
   "metadata": {},
   "outputs": [],
   "source": [
    "# Drop unnecessary columns \n",
    "mcd_br_t_2 = mcd_br_t.drop(['name', 'city', 'address', 'id'], axis=1)\n",
    "mcd_br_m_2 = mcd_br_m.drop(['name', 'city', 'address', 'id'], axis=1)"
   ]
  },
  {
   "cell_type": "code",
   "execution_count": null,
   "metadata": {},
   "outputs": [],
   "source": [
    "mcd_br_t_2.head(1)"
   ]
  },
  {
   "cell_type": "code",
   "execution_count": null,
   "metadata": {},
   "outputs": [],
   "source": [
    "mcd_br_m_2.head(1)"
   ]
  },
  {
   "cell_type": "markdown",
   "metadata": {},
   "source": [
    "### Clustering & Visualizing Clusters for each City \n",
    "\n",
    "## 1. Toronto"
   ]
  },
  {
   "cell_type": "code",
   "execution_count": null,
   "metadata": {},
   "outputs": [],
   "source": [
    "kclusters = 4 # set the number of clusters\n",
    "k_means = KMeans(n_clusters=kclusters, random_state=0, init = 'k-means++', n_init = 15).fit(mcd_br_t_2) # fit the model\n",
    "Clusters = k_means.labels_\n",
    "mcd_br_t['Cluster'] = Clusters # add result column to the original data"
   ]
  },
  {
   "cell_type": "code",
   "execution_count": null,
   "metadata": {},
   "outputs": [],
   "source": [
    "# Function to sort clustors best to worst\n",
    "def conditions(n):\n",
    "    if n['Cluster']==3:\n",
    "        return 1\n",
    "    if n['Cluster']==1:\n",
    "        return 2\n",
    "    if n['Cluster']==2:\n",
    "        return 3\n",
    "    if n['Cluster']==0:\n",
    "        return 4\n",
    "\n",
    "mcd_br_t['cluster_sorted']=mcd_br_t.apply(conditions, axis=1)"
   ]
  },
  {
   "cell_type": "code",
   "execution_count": null,
   "metadata": {},
   "outputs": [],
   "source": [
    "import folium\n",
    "import matplotlib.colors as colors\n",
    "mcd_t = folium.Map(location=[to_latitude, to_longitude], zoom_start=13) \n",
    "\n",
    "x = np.arange(kclusters)\n",
    "ys = [i + x + (i*x)**2 for i in range(kclusters)]\n",
    "colors_array = cm.rainbow(np.linspace(0, 1, len(ys)))\n",
    "rainbow = [colors.rgb2hex(i) for i in colors_array]\n",
    "# add markers to the map\n",
    "markers_colors = []\n",
    "\n",
    "for lat, lon, add, cluster in zip(mcd_br_t['lat'], mcd_br_t['lng'], mcd_br_t['address'], mcd_br_t['cluster_sorted']):\n",
    "    label = folium.Popup(str(add) + ' Cluster ' + str(cluster), parse_html=True)\n",
    "    folium.CircleMarker(\n",
    "        [lat, lon],\n",
    "        radius=7,\n",
    "        popup=label,\n",
    "        color='black',\n",
    "        fill=True,\n",
    "        fill_color=rainbow[cluster-2],\n",
    "        fill_opacity=0.8).add_to(mcd_t)\n",
    "       \n",
    "mcd_t"
   ]
  },
  {
   "cell_type": "markdown",
   "metadata": {},
   "source": [
    "### Results for Toronto"
   ]
  },
  {
   "cell_type": "code",
   "execution_count": null,
   "metadata": {},
   "outputs": [],
   "source": [
    "pd.set_option('max_rows', 100)\n",
    "#### Cluster 1\n",
    "mcd_br_t.loc[mcd_br_t['cluster_sorted'] == 1, mcd_br_t.columns[[2] + list(range(6, mcd_br_t.shape[1]))]]"
   ]
  },
  {
   "cell_type": "code",
   "execution_count": null,
   "metadata": {},
   "outputs": [],
   "source": [
    "#### Cluster 2\n",
    "mcd_br_t.loc[mcd_br_t['cluster_sorted'] == 2, mcd_br_t.columns[[2] + list(range(6, mcd_br_t.shape[1]))]]"
   ]
  },
  {
   "cell_type": "code",
   "execution_count": null,
   "metadata": {},
   "outputs": [],
   "source": [
    "#### Cluster 3\n",
    "mcd_br_t.loc[mcd_br_t['cluster_sorted'] == 3, mcd_br_t.columns[[2] + list(range(6, mcd_br_t.shape[1]))]]"
   ]
  },
  {
   "cell_type": "code",
   "execution_count": null,
   "metadata": {},
   "outputs": [],
   "source": [
    "#### Cluster 4\n",
    "mcd_br_t.loc[mcd_br_t['cluster_sorted'] == 4, mcd_br_t.columns[[2] + list(range(6, mcd_br_t.shape[1]))]]"
   ]
  },
  {
   "cell_type": "code",
   "execution_count": null,
   "metadata": {},
   "outputs": [],
   "source": [
    "sns.set(rc={'figure.figsize':(5,4)})\n",
    "toronto_br_grouped_count = mcd_br_t.groupby('cluster_sorted')['address'].count().to_frame()\n",
    "toronto_br_grouped_count.reset_index(inplace=True)\n",
    "ax = sns.barplot(x='cluster_sorted', y='address', data=toronto_br_grouped_count, palette=\"Wistia_r\")\n",
    "ax.set_title('Number of Mcdonalds branches in Toronto per cluster')\n",
    "ax.set_ylabel('Count');"
   ]
  },
  {
   "cell_type": "markdown",
   "metadata": {},
   "source": [
    "## 2. Manhattan"
   ]
  },
  {
   "cell_type": "code",
   "execution_count": null,
   "metadata": {},
   "outputs": [],
   "source": [
    "kclusters=4\n",
    "k_means = KMeans(n_clusters=kclusters, random_state=0, init = 'k-means++', n_init = 15).fit(mcd_br_m_2)\n",
    "Clusters = k_means.labels_\n",
    "mcd_br_m['Cluster'] = Clusters"
   ]
  },
  {
   "cell_type": "code",
   "execution_count": null,
   "metadata": {},
   "outputs": [],
   "source": [
    "# Function to sort clustors best to worst\n",
    "def conditions(n):\n",
    "    if n['Cluster']==0:\n",
    "        return 1\n",
    "    if n['Cluster']==3:\n",
    "        return 2\n",
    "    if n['Cluster']==2:\n",
    "        return 3\n",
    "    if n['Cluster']==1:\n",
    "        return 4\n",
    "\n",
    "mcd_br_m['cluster_sorted']=mcd_br_m.apply(conditions, axis=1) # Sort clusters\n",
    "\n"
   ]
  },
  {
   "cell_type": "code",
   "execution_count": null,
   "metadata": {},
   "outputs": [],
   "source": [
    "import folium\n",
    "import matplotlib.colors as colors\n",
    "mcd_m = folium.Map(location=[m_latitude, m_longitude], zoom_start=12) \n",
    "\n",
    "x = np.arange(kclusters)\n",
    "ys = [i + x + (i*x)**2 for i in range(kclusters)]\n",
    "colors_array = cm.rainbow(np.linspace(0, 1, len(ys)))\n",
    "rainbow = [colors.rgb2hex(i) for i in colors_array]\n",
    "# add markers to the map\n",
    "markers_colors = []\n",
    "\n",
    "for lat, lon, add, cluster in zip(mcd_br_m['lat'], mcd_br_m['lng'], mcd_br_m['address'], mcd_br_m['cluster_sorted']):\n",
    "    label = folium.Popup(str(add) + ' Cluster ' + str(cluster), parse_html=True)\n",
    "    folium.CircleMarker(\n",
    "        [lat, lon],\n",
    "        radius=7,\n",
    "        popup=label,\n",
    "        color='black',\n",
    "        fill=True,\n",
    "        fill_color=rainbow[cluster-2],\n",
    "        fill_opacity=0.8).add_to(mcd_m)\n",
    "       \n",
    "mcd_m"
   ]
  },
  {
   "cell_type": "code",
   "execution_count": null,
   "metadata": {},
   "outputs": [],
   "source": [
    "#### Cluster 1\n",
    "mcd_br_m.loc[mcd_br_m['cluster_sorted'] == 1, mcd_br_m.columns[[2] + list(range(6, mcd_br_m.shape[1]))]]"
   ]
  },
  {
   "cell_type": "code",
   "execution_count": null,
   "metadata": {},
   "outputs": [],
   "source": [
    "#### Cluster 2\n",
    "mcd_br_m.loc[mcd_br_m['cluster_sorted'] == 2, mcd_br_m.columns[[2] + list(range(6, mcd_br_m.shape[1]))]]"
   ]
  },
  {
   "cell_type": "code",
   "execution_count": null,
   "metadata": {},
   "outputs": [],
   "source": [
    "#### Cluster 3\n",
    "mcd_br_m.loc[mcd_br_m['cluster_sorted'] == 3, mcd_br_m.columns[[2] + list(range(6, mcd_br_m.shape[1]))]]"
   ]
  },
  {
   "cell_type": "code",
   "execution_count": null,
   "metadata": {},
   "outputs": [],
   "source": [
    "#### Cluster 4\n",
    "mcd_br_m.loc[mcd_br_m['cluster_sorted'] == 4, mcd_br_m.columns[[2] + list(range(6, mcd_br_m.shape[1]))]]"
   ]
  },
  {
   "cell_type": "code",
   "execution_count": null,
   "metadata": {},
   "outputs": [],
   "source": [
    "sns.set(rc={'figure.figsize':(5,4)})\n",
    "manhattan_br_grouped_count = mcd_br_m.groupby('cluster_sorted')['address'].count().to_frame()\n",
    "manhattan_br_grouped_count.reset_index(inplace=True)\n",
    "ax = sns.barplot(x='cluster_sorted', y='address', data=manhattan_br_grouped_count, palette=\"Wistia_r\")\n",
    "ax.set_title('Number of Mcdonalds branches in Manhattan per cluster')\n",
    "ax.set_ylabel('Count');"
   ]
  },
  {
   "cell_type": "markdown",
   "metadata": {},
   "source": [
    "## Clustering both Cities together"
   ]
  },
  {
   "cell_type": "code",
   "execution_count": null,
   "metadata": {},
   "outputs": [],
   "source": [
    "both_C = df_both.drop(['name', 'city', 'address', 'id'], axis=1)# drop some Columns"
   ]
  },
  {
   "cell_type": "code",
   "execution_count": null,
   "metadata": {},
   "outputs": [],
   "source": [
    "#Find optimal number of clusters and visualize it\n",
    "\n",
    "plt.style.use(\"seaborn\")\n",
    "Ks = 11\n",
    "mse = np.zeros((Ks-1))\n",
    "for n in range(1,Ks):\n",
    "    \n",
    "    # set number of clusters\n",
    "    kclusters = n\n",
    "    # run k-means clustering\n",
    "    kmeans = KMeans(n_clusters=kclusters, random_state=0, init = 'k-means++', n_init = 15).fit(both_C)\n",
    "    mse[n-1] = kmeans.inertia_\n",
    "\n",
    "plt.plot(range(1,Ks),mse)\n",
    "plt.xlabel(\"Optimal number of K\")\n",
    "plt.ylabel(\"MSE\")\n",
    "plt.title(\"K selection\")\n",
    "plt.show()"
   ]
  },
  {
   "cell_type": "code",
   "execution_count": null,
   "metadata": {},
   "outputs": [],
   "source": [
    "kclusters = 3\n",
    "k_means = KMeans(n_clusters=kclusters, random_state=0, init = 'k-means++', n_init = 15).fit(both_C)\n",
    "Clusters = k_means.labels_\n",
    "df_both['Cluster'] = Clusters\n",
    "df_clustered = df_both.drop(['name', 'lat', 'lng', 'id'], axis=1)# dropping Columns\n",
    "pd.set_option('max_rows', 2)\n",
    "df_clustered"
   ]
  },
  {
   "cell_type": "code",
   "execution_count": null,
   "metadata": {},
   "outputs": [],
   "source": [
    "# Function to sort clustors best to worst\n",
    "def conditions(n):\n",
    "    if n['Cluster']==2:\n",
    "        return 1\n",
    "    if n['Cluster']==0:\n",
    "        return 2\n",
    "    if n['Cluster']==1:\n",
    "        return 3\n",
    "\n",
    "df_clustered['cluster_sorted']=df_clustered.apply(conditions, axis=1) # Sort clusters"
   ]
  },
  {
   "cell_type": "code",
   "execution_count": null,
   "metadata": {
    "scrolled": true
   },
   "outputs": [],
   "source": [
    "pd.set_option('max_rows', 100)\n",
    "#### Cluster 1\n",
    "df_clustered.loc[df_clustered['cluster_sorted'] == 1]"
   ]
  },
  {
   "cell_type": "code",
   "execution_count": null,
   "metadata": {},
   "outputs": [],
   "source": [
    "#### Cluster 2\n",
    "df_clustered.loc[df_clustered['cluster_sorted'] == 2]"
   ]
  },
  {
   "cell_type": "code",
   "execution_count": null,
   "metadata": {
    "scrolled": true
   },
   "outputs": [],
   "source": [
    "#### Cluster 3\n",
    "df_clustered.loc[df_clustered['cluster_sorted'] == 3]"
   ]
  },
  {
   "cell_type": "code",
   "execution_count": null,
   "metadata": {},
   "outputs": [],
   "source": [
    "#### Cluster 4\n",
    "df_clustered.loc[df_clustered['Cluster'] == 3]"
   ]
  },
  {
   "cell_type": "markdown",
   "metadata": {},
   "source": [
    "### Count & visualize the total number of Mcdonalds branches per cluster"
   ]
  },
  {
   "cell_type": "code",
   "execution_count": null,
   "metadata": {},
   "outputs": [],
   "source": [
    "df_clus_count = pd.DataFrame(df_clustered['cluster_sorted'].value_counts())\n",
    "df_clus_count = df_clus_count.reset_index()\n",
    "df_clus_count.columns = ['cluster_sorted', 'Count']\n",
    "df_clus_count"
   ]
  },
  {
   "cell_type": "code",
   "execution_count": null,
   "metadata": {},
   "outputs": [],
   "source": [
    "sns.set(rc={'figure.figsize':(5,4)}) \n",
    "ax = sns.barplot(x='cluster_sorted', y='Count', data=df_clus_count)\n",
    "ax.set_title('Mcdonalds branches per cluster in both Cities');"
   ]
  },
  {
   "cell_type": "markdown",
   "metadata": {},
   "source": [
    "### We should know the distribution of the cities in each cluster so we need to create a pivot table"
   ]
  },
  {
   "cell_type": "code",
   "execution_count": null,
   "metadata": {},
   "outputs": [],
   "source": [
    "df_final = df_clustered.copy()\n",
    "df_final['count'] = 1 # adding count column\n",
    "pivot = pd.pivot_table(df_final, index=[\"cluster_sorted\",\"city\"], values=[\"count\"], aggfunc=np.sum)\n",
    "pivot"
   ]
  },
  {
   "cell_type": "code",
   "execution_count": null,
   "metadata": {},
   "outputs": [],
   "source": [
    "df_final.groupby('cluster_sorted')['city']\\\n",
    "    .value_counts()\\\n",
    "    .unstack(level=1)\\\n",
    "    .plot.bar(stacked=False)\n",
    "\n",
    "plt.ylabel('Count')\n",
    "plt.title('Count of branches per clusters by city')\n"
   ]
  },
  {
   "cell_type": "markdown",
   "metadata": {},
   "source": [
    "### Add a column describes the level of performance depending on the quantile values of likes"
   ]
  },
  {
   "cell_type": "code",
   "execution_count": null,
   "metadata": {},
   "outputs": [],
   "source": [
    "df_final['likes'].describe()"
   ]
  },
  {
   "cell_type": "code",
   "execution_count": null,
   "metadata": {},
   "outputs": [],
   "source": [
    "poor = df_final['likes']<=7\n",
    "below_avg = df_final[(df_final['likes']>7) & (df_final['likes']<=19)]\n",
    "abv_avg = df_final[(df_final['likes']>19) & (df_final['likes']<=34)]\n",
    "good = df_final[(df_final['likes']>34) & (df_final['likes']<=100)]\n",
    "very_good = df_final[(df_final['likes']>100) & (df_final['likes']<=150)]\n",
    "great = df_final['likes']>150\n",
    "def conditions(n):\n",
    "    if n['likes']<=7:\n",
    "        return 'poor'\n",
    "    if n['likes']<=19:\n",
    "        return 'below avg'\n",
    "    if n['likes']<=34:\n",
    "        return 'abv avg'\n",
    "    if n['likes']<=100:\n",
    "        return 'good'\n",
    "    if n['likes']<=150:\n",
    "        return 'very good'\n",
    "    if n['likes']>150:\n",
    "        return 'great'\n",
    "\n",
    "df_final['level of performance']=df_final.apply(conditions, axis=1)"
   ]
  },
  {
   "cell_type": "code",
   "execution_count": null,
   "metadata": {},
   "outputs": [],
   "source": [
    "# Add sorting column \n",
    "def conditions(n):\n",
    "    if n['level of performance']=='poor':\n",
    "        return '6'\n",
    "    if n['level of performance']=='below avg':\n",
    "        return '5'\n",
    "    if n['level of performance']=='abv avg':\n",
    "        return '4'\n",
    "    if n['level of performance']=='good':\n",
    "        return '3'\n",
    "    if n['level of performance']=='very good':\n",
    "        return '2'\n",
    "    if n['level of performance']=='great':\n",
    "        return '1'\n",
    "\n",
    "df_final['sorting']=df_final.apply(conditions, axis=1)"
   ]
  },
  {
   "cell_type": "code",
   "execution_count": null,
   "metadata": {},
   "outputs": [],
   "source": [
    "pivot2 = pd.pivot_table(df_final, index=[\"level of performance\", \"sorting\"], values=[\"count\"], aggfunc=np.sum)\n",
    "pivot2.sort_values(by='sorting', ascending=True, inplace=True)\n",
    "pivot2.reset_index(drop=False, inplace=True)\n",
    "pivot2.drop(['sorting'], axis=1, inplace=True)\n",
    "pivot2.set_index('level of performance', inplace=True)\n",
    "pivot2"
   ]
  },
  {
   "cell_type": "code",
   "execution_count": null,
   "metadata": {},
   "outputs": [],
   "source": [
    "pivot2.reset_index(drop=False, inplace=True)\n",
    "sns.set(rc={'figure.figsize':(5,4)})\n",
    "ax = sns.barplot(x='level of performance', y='count', data=pivot2, palette=\"BuPu_r\")\n",
    "ax.set_title('Level of Performance by number of likes')\n",
    "ax.set_ylabel('Count')\n",
    "ax.set_xlabel('Level of Performance');\n",
    "\n"
   ]
  },
  {
   "cell_type": "code",
   "execution_count": null,
   "metadata": {},
   "outputs": [],
   "source": [
    "# show resulty per City\n",
    "pivot3 = pd.pivot_table(df_final, index=[\"level of performance\", \"city\", \"sorting\"], values=[\"count\"], aggfunc=np.sum)\n",
    "pivot3.sort_values(by='sorting', ascending=True, inplace=True)\n",
    "pivot3.reset_index(drop=False, inplace=True)\n",
    "pivot3.drop(['sorting'], axis=1, inplace=True)\n",
    "pivot3.set_index(['level of performance','city'], inplace=True)\n",
    "pivot3"
   ]
  },
  {
   "cell_type": "code",
   "execution_count": null,
   "metadata": {},
   "outputs": [],
   "source": [
    "pivot3.reset_index(drop=False, inplace=True)\n",
    "df_final.sort_values(by='likes', ascending=False, inplace=True)"
   ]
  },
  {
   "cell_type": "code",
   "execution_count": null,
   "metadata": {},
   "outputs": [],
   "source": [
    "df_final.groupby('sorting')['city']\\\n",
    "    .value_counts()\\\n",
    "    .unstack(level=1)\\\n",
    "    .plot.bar(stacked=False)\n",
    "\n",
    "plt.xticks(np.arange(6), ('great', 'very good', 'good', 'abv avg', 'below avg', 'poor'), rotation=20)\n",
    "plt.xlabel('')\n",
    "plt.ylabel('Count')\n",
    "plt.title('Count of branches per performance category and by city')"
   ]
  },
  {
   "cell_type": "code",
   "execution_count": null,
   "metadata": {},
   "outputs": [],
   "source": [
    "pd.set_option('max_rows', 100)\n",
    "df_final.drop(['sorting'], axis=1, inplace=True)\n",
    "# sorting\n",
    "df_final.sort_values(by='likes', ascending=False, inplace=True)\n",
    "df_final.reset_index(drop=True, inplace=True)\n",
    "top= df_final.head(20)\n",
    "worst= df_final.tail(20)"
   ]
  },
  {
   "cell_type": "code",
   "execution_count": null,
   "metadata": {
    "scrolled": false
   },
   "outputs": [],
   "source": [
    "pivot4 = pd.pivot_table(df_final, index=[\"city\", \"address\", \"likes\", \"ratings\", \"level of performance\", \"cluster_sorted\"], values=[\"count\"], aggfunc=np.sum)\n",
    "pivot4.sort_values(by='likes', ascending=False, inplace=True)\n",
    "pivot4.drop(['count'], axis=1, inplace=True)\n",
    "pivot4"
   ]
  },
  {
   "cell_type": "markdown",
   "metadata": {},
   "source": [
    "## Top twenty branches of the chain in Manhattan and Toronto"
   ]
  },
  {
   "cell_type": "code",
   "execution_count": null,
   "metadata": {},
   "outputs": [],
   "source": [
    "sns.set(rc={'figure.figsize':(9,10)})\n",
    "\n",
    "ax = sns.barplot(x='likes', y='address', data=top, palette=\"gnuplot\")\n",
    "ax.set_title('Top 20 McDonalds Branches by likes')\n",
    "ax.set_ylabel('');\n",
    "\n",
    "for index, value in enumerate(top['likes']): \n",
    "    label = format(value) \n",
    "    plt.annotate(label, xy=(value - 13, index - 0.0), color='white')\n",
    "    \n",
    "      "
   ]
  },
  {
   "cell_type": "code",
   "execution_count": null,
   "metadata": {},
   "outputs": [],
   "source": [
    "ax = sns.catplot(x=\"address\", y=\"likes\", \n",
    "                 col=\"city\", data=top, \n",
    "                 kind=\"bar\", hue=\"level of performance\",\n",
    "                 palette=\"gnuplot\",height=7, aspect=.9\n",
    ")\n",
    "\n",
    "ax.set_xticklabels(rotation=90) "
   ]
  },
  {
   "cell_type": "markdown",
   "metadata": {},
   "source": [
    "## Worst twenty branches of the chain in Manhattan and Toronto"
   ]
  },
  {
   "cell_type": "code",
   "execution_count": null,
   "metadata": {},
   "outputs": [],
   "source": [
    "sns.set(rc={'figure.figsize':(4,10)})\n",
    "\n",
    "ax = sns.barplot(x='likes', y='address', data=worst, palette=\"gnuplot\")\n",
    "ax.set_title('Worst 20 McDonalds Branches by likes')\n",
    "ax.set_ylabel('');\n",
    "\n",
    "for index, value in enumerate(worst['likes']): \n",
    "    label = format(value) \n",
    "    plt.annotate(label, xy=(value - 0.3, index - 0.0), color='white')"
   ]
  },
  {
   "cell_type": "code",
   "execution_count": null,
   "metadata": {},
   "outputs": [],
   "source": [
    "ax = sns.catplot(x=\"address\", y=\"likes\", \n",
    "                 col=\"city\", data=worst, \n",
    "                 kind=\"bar\", \n",
    "                 palette=\"gnuplot\",height=6, aspect=.9\n",
    ")\n",
    "\n",
    "ax.set_xticklabels(rotation=90) "
   ]
  },
  {
   "cell_type": "code",
   "execution_count": null,
   "metadata": {},
   "outputs": [],
   "source": [
    "ax = sns.catplot(x=\"address\", y=\"likes\", \n",
    "                 col=\"city\", data=worst, \n",
    "                 kind=\"bar\", hue=\"level of performance\",\n",
    "                 palette=\"gnuplot\",height=7, aspect=.9\n",
    ")\n",
    "\n",
    "ax.set_xticklabels(rotation=90) "
   ]
  },
  {
   "cell_type": "code",
   "execution_count": null,
   "metadata": {},
   "outputs": [],
   "source": []
  },
  {
   "cell_type": "code",
   "execution_count": null,
   "metadata": {},
   "outputs": [],
   "source": []
  },
  {
   "cell_type": "code",
   "execution_count": null,
   "metadata": {},
   "outputs": [],
   "source": []
  },
  {
   "cell_type": "code",
   "execution_count": null,
   "metadata": {},
   "outputs": [],
   "source": []
  }
 ],
 "metadata": {
  "kernelspec": {
   "display_name": "Python 3",
   "language": "python",
   "name": "python3"
  },
  "language_info": {
   "codemirror_mode": {
    "name": "ipython",
    "version": 3
   },
   "file_extension": ".py",
   "mimetype": "text/x-python",
   "name": "python",
   "nbconvert_exporter": "python",
   "pygments_lexer": "ipython3",
   "version": "3.7.3"
  }
 },
 "nbformat": 4,
 "nbformat_minor": 2
}
