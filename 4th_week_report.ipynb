{
    "nbformat_minor": 1, 
    "cells": [
        {
            "source": "# Coursera - Capstone Project for IBM Data Science Certificate\n\n## The Battle of the Neighborhoods: 4th Week Report\n***\n\n## *Comparing McDonald's Branches in Manhattan and Toronto by Customer Feedback on FourSquare API*\n\n*by Mohamad Shammaa*\n\n", 
            "cell_type": "markdown", 
            "metadata": {
                "collapsed": true
            }
        }, 
        {
            "source": "# INTRODUCTION", 
            "cell_type": "markdown", 
            "metadata": {}
        }, 
        {
            "source": "McDonald's Corporation is an American fast food company, founded in 1940. It is the world's largest restaurant chain by revenue, serving over 69 million customers daily in over 100 countries across 37,855 outlets as of 2018. \n\nDifferent factors, as cultural background of costumers, location and way of dealing with customers as well as flavors and types of the meals between branches might contribute positively or negatively to the formation of the final customer opinion in a particular branch of the chain. \n\nIn my study I will focus on two large cities with different cultural background namely Toronto and Manhattan in New York. \n\n*Toronto (Population: 2.93 million 2017 ), is a business-minded, conscientious, socially progressive, and pluralistic city. It is a city of many museums, theatres, festival events and sports activities. Toronto's cosmopolitan atmosphere is reflected in its cuisine, with many world cooking styles represented.*\n\n*Manhattan (Population: 1.629 million 2017 ), often referred to locally as the City, is the most densely populated of the five boroughs of New York City and its economic and administrative center, cultural identifier, and historical birthplace. Manhattan has been described as the cultural, financial, media, and entertainment capital of the world.* \n", 
            "cell_type": "markdown", 
            "metadata": {}
        }, 
        {
            "source": "### Business Problem", 
            "cell_type": "markdown", 
            "metadata": {}
        }, 
        {
            "source": "Suppose we were commissioned by McDonald's management to evaluate the performance of all McDonald's branches in both Manhattan and in Toronto, and we were also asked to compare the two cities in terms of performance and then to classify them according to public satisfaction degree.\n\nA way to do so would be evaluating each branch relying on the overall customers satisfaction. To achieve our mission we need to ask a group of people about their opinion after having a meal in a certain branch of the chain. Another way to do this would be by comparing the total number of likes for all branches which give us a good understanding of the overall performance.\n\nBased on the above, this research will attempt to answer the following question: \n\n**Are all McDonald's branches equal in terms of final consumer opinion and which branches have been performing better than the others in Toronto and Manhattan ?**\n", 
            "cell_type": "markdown", 
            "metadata": {}
        }, 
        {
            "source": "# Data", 
            "cell_type": "markdown", 
            "metadata": {}
        }, 
        {
            "source": "We will use the Toronto regional data published on the Wikipedia website and New York's official data to review all areas and neighborhoods in both cities.\n\nToronto data from: \nhttps://en.wikipedia.org/wiki/List_of_postal_codes_of_Canada:_M\n\nNew York data from:\nhttps://geo.nyu.edu/download/file/nyu-2451-34572-geojson.json\n\nRegarding the essence of this research and in order to achieve our task, we will utilize the FourSquare API to get the coordinates of all McDonald's branches once in Manhattan and once in Toronto.\n\nInitially, a search query with McDonald's name within a 5 km radius will be sent. After wrangling raw data in a proper way, we should finally get a table for each city that includes the following:\n\n|city | address of the branch | latitude\t| longitude\t| Id|\n| --- | --- |--- |--- |--- |\n\n<br>\n\nThen all the branches to be studied will be explored on the map, 41 in Manhattan and 40 in Toronto. In addition, FourSquare API data will be used again to get both the total number of likes and the overall rating levels for each branch  by passing the id numbers of our branches in the request.\n", 
            "cell_type": "markdown", 
            "metadata": {}
        }, 
        {
            "execution_count": null, 
            "cell_type": "code", 
            "metadata": {}, 
            "outputs": [], 
            "source": ""
        }
    ], 
    "metadata": {
        "kernelspec": {
            "display_name": "Python 3.6", 
            "name": "python3", 
            "language": "python"
        }, 
        "language_info": {
            "mimetype": "text/x-python", 
            "nbconvert_exporter": "python", 
            "version": "3.6.8", 
            "name": "python", 
            "file_extension": ".py", 
            "pygments_lexer": "ipython3", 
            "codemirror_mode": {
                "version": 3, 
                "name": "ipython"
            }
        }
    }, 
    "nbformat": 4
}